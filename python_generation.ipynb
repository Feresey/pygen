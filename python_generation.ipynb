{
  "nbformat": 4,
  "nbformat_minor": 0,
  "metadata": {
    "kernelspec": {
      "display_name": "Python 3",
      "language": "python",
      "name": "python3"
    },
    "language_info": {
      "codemirror_mode": {
        "name": "ipython",
        "version": 3
      },
      "file_extension": ".py",
      "mimetype": "text/x-python",
      "name": "python",
      "nbconvert_exporter": "python",
      "pygments_lexer": "ipython3",
      "version": "3.7.4"
    },
    "colab": {
      "name": "python-generation.ipynb",
      "provenance": [],
      "collapsed_sections": []
    },
    "accelerator": "GPU"
  },
  "cells": [
    {
      "cell_type": "code",
      "metadata": {
        "id": "UgJhqsLTu3r1"
      },
      "source": [
        "import numpy as np\n",
        "import matplotlib.pyplot as plt\n",
        "import tensorflow as tf\n",
        "\n",
        "import os\n",
        "import pickle"
      ],
      "execution_count": null,
      "outputs": []
    },
    {
      "cell_type": "code",
      "metadata": {
        "id": "3dGi_2Cnu3sC",
        "outputId": "579b6ef6-a9dd-4efd-ffc0-95e31b5779e4",
        "colab": {
          "base_uri": "https://localhost:8080/",
          "height": 204
        }
      },
      "source": [
        "with open(\"final.txt\", \"rb\") as fp:\n",
        "    ds = pickle.load(fp)\n",
        "print(f\"Total num words: {len(ds)}\")\n",
        "ds[:10]"
      ],
      "execution_count": null,
      "outputs": [
        {
          "output_type": "stream",
          "text": [
            "Total num words: 1645184\n"
          ],
          "name": "stdout"
        },
        {
          "output_type": "execute_result",
          "data": {
            "text/plain": [
              "['utf-8',\n",
              " 'from',\n",
              " 'server',\n",
              " 'import',\n",
              " 'app',\n",
              " '\\n',\n",
              " '\\n',\n",
              " '\\n',\n",
              " 'if',\n",
              " '__name__']"
            ]
          },
          "metadata": {
            "tags": []
          },
          "execution_count": 4
        }
      ]
    },
    {
      "cell_type": "code",
      "metadata": {
        "id": "qMl6UIPBu3s3",
        "outputId": "cf65917a-69c2-4dd8-9285-6256ddf3c9f1",
        "colab": {
          "base_uri": "https://localhost:8080/",
          "height": 34
        }
      },
      "source": [
        "vocab = sorted(set(ds))\n",
        "print (f'Vocab: {len(vocab)}')"
      ],
      "execution_count": null,
      "outputs": [
        {
          "output_type": "stream",
          "text": [
            "Vocab: 58812\n"
          ],
          "name": "stdout"
        }
      ]
    },
    {
      "cell_type": "code",
      "metadata": {
        "id": "XvhWyj3cu3s-"
      },
      "source": [
        "word2idx = {u:i for i, u in enumerate(vocab)}\n",
        "idx2word = np.array(vocab)\n",
        "\n",
        "text_as_int = np.array([word2idx[c] for c in ds])"
      ],
      "execution_count": null,
      "outputs": []
    },
    {
      "cell_type": "code",
      "metadata": {
        "id": "jeKuPxqDu3tK"
      },
      "source": [
        "seq_length = 50\n",
        "examples_per_epoch = len(ds) // (seq_length + 1)\n",
        "\n",
        "# Create training examples / targets\n",
        "char_dataset = tf.data.Dataset.from_tensor_slices(text_as_int)"
      ],
      "execution_count": null,
      "outputs": []
    },
    {
      "cell_type": "code",
      "metadata": {
        "id": "rgrFOzfZu3tQ",
        "outputId": "73bc646e-e430-460b-e70a-8fec080b72ce",
        "colab": {
          "base_uri": "https://localhost:8080/",
          "height": 122
        }
      },
      "source": [
        "sequences = char_dataset.batch(seq_length+1, drop_remainder=True)\n",
        "\n",
        "for item in sequences.take(5):\n",
        "    print(repr(' '.join(idx2word[item.numpy()])))"
      ],
      "execution_count": null,
      "outputs": [
        {
          "output_type": "stream",
          "text": [
            "\"utf-8 from server import app \\n \\n \\n if __name__ == '__main__' : \\n      app . run ( host = '0.0.0.0' , debug = True ) \\n   utf-8 #!C:\\\\Python23\\\\python.exe \\n \\n from pyid3v2 import * \\n \\n import sys , string , os ,\"\n",
            "\"pickle , fnmatch \\n \\n def strip_newline ( data ) : \\n # find new line and strip everything before it \\n \\t for i in range ( 0 , len ( data ) ) : \\n \\t\\t if data [ i ] == '\\\\n' : \\n \\t\\t\\t return data [\"\n",
            "'i + 1 : ] \\n \\n # oops, didn\\'t find anything offending \\n   return data \\n \\n \\n  versions = { 0x0200 : [ ] , 0x0300 : [ ] , 0x0400 : [ ] , \"unknown\" : [ ] } \\n frames = { } \\n'\n",
            "'errors = [ ] \\n \\n def do_id3 ( filename ) : \\n \\t try : \\n \\t\\t id3 = ID3v2 ( filename , ID3V2_FILE_READ ) \\n if versions . has_key ( id3 . tag [ \"version\" ] ) : \\n \\t\\t\\t versions [ id3 . tag [ \"version\" ] ]'\n",
            "'. append ( filename ) \\n  else : \\n \\t\\t\\t versions [ \"unknown\" ] . append ( filename ) \\n \\n  for f in id3 . frames : \\n \\t\\t\\t if frames . has_key ( f . fid ) : \\n \\t\\t\\t\\t frames [ f . fid ] .'\n"
          ],
          "name": "stdout"
        }
      ]
    },
    {
      "cell_type": "code",
      "metadata": {
        "id": "QNiZbQJTu3tW"
      },
      "source": [
        "def split_input_target(chunk):\n",
        "    input_text = chunk[:-1]\n",
        "    target_text = chunk[1:]\n",
        "    return input_text, target_text\n",
        "\n",
        "dataset = sequences.map(split_input_target)"
      ],
      "execution_count": null,
      "outputs": []
    },
    {
      "cell_type": "code",
      "metadata": {
        "id": "OVm_frgWu3tb",
        "outputId": "4d561255-862b-4366-dea6-8aed243308a2",
        "colab": {
          "base_uri": "https://localhost:8080/",
          "height": 34
        }
      },
      "source": [
        "# Batch size\n",
        "BATCH_SIZE = 256\n",
        "\n",
        "# Buffer size to shuffle the dataset\n",
        "# (TF data is designed to work with possibly infinite sequences,\n",
        "# so it doesn't attempt to shuffle the entire sequence in memory. Instead,\n",
        "# it maintains a buffer in which it shuffles elements).\n",
        "BUFFER_SIZE = 10000\n",
        "\n",
        "dataset = dataset.shuffle(BUFFER_SIZE).batch(BATCH_SIZE, drop_remainder=True)\n",
        "\n",
        "dataset"
      ],
      "execution_count": null,
      "outputs": [
        {
          "output_type": "execute_result",
          "data": {
            "text/plain": [
              "<BatchDataset shapes: ((256, 50), (256, 50)), types: (tf.int64, tf.int64)>"
            ]
          },
          "metadata": {
            "tags": []
          },
          "execution_count": 10
        }
      ]
    },
    {
      "cell_type": "code",
      "metadata": {
        "id": "oxFAd3zWu3th"
      },
      "source": [
        "vocab_size = len(vocab)\n",
        "\n",
        "embedding_dim = 256\n",
        "\n",
        "rnn_layer1 = 64\n",
        "rnn_layer2 = 32"
      ],
      "execution_count": null,
      "outputs": []
    },
    {
      "cell_type": "code",
      "metadata": {
        "id": "p37aNVteu3tm"
      },
      "source": [
        "def loss(labels, logits):\n",
        "    return tf.keras.losses.sparse_categorical_crossentropy(labels, logits, from_logits=True)"
      ],
      "execution_count": null,
      "outputs": []
    },
    {
      "cell_type": "code",
      "metadata": {
        "id": "Q_prK2Nzu3ts"
      },
      "source": [
        "def generate_text(model, start_string):\n",
        "    # Evaluation step (generating text using the learned model)\n",
        "\n",
        "    # Number of characters to generate\n",
        "    num_generate = 500\n",
        "\n",
        "    # Converting our start string to numbers (vectorizing)\n",
        "    input_eval = [word2idx[s] for s in start_string.split()]\n",
        "    input_eval = tf.expand_dims(input_eval, 0)\n",
        "\n",
        "    # Empty string to store our results\n",
        "    text_generated = []\n",
        "\n",
        "    # Low temperatures results in more predictable text.\n",
        "    # Higher temperatures results in more surprising text.\n",
        "    # Experiment to find the best setting.\n",
        "    temperature = 1.0\n",
        "\n",
        "    # Here batch size == 1\n",
        "    model.reset_states()\n",
        "    for i in range(num_generate):\n",
        "        predictions = model(input_eval)\n",
        "        # remove the batch dimension\n",
        "        predictions = tf.squeeze(predictions, 0)\n",
        "\n",
        "        # using a categorical distribution to predict the character returned by the model\n",
        "        predictions = predictions / temperature\n",
        "        predicted_id = tf.random.categorical(predictions, num_samples=1)[-1,0].numpy()\n",
        "\n",
        "        # We pass the predicted character as the next input to the model\n",
        "        # along with the previous hidden state\n",
        "        input_eval = tf.expand_dims([predicted_id], 0)\n",
        "\n",
        "        text_generated.append(idx2word[predicted_id])\n",
        "\n",
        "    return (start_string + ' '.join(text_generated))\n",
        "\n",
        "def LSTM1(vocab_size, embedding_dim, rnn_units, batch_size):\n",
        "    model = tf.keras.Sequential([\n",
        "        tf.keras.layers.Embedding(vocab_size, embedding_dim,batch_input_shape=[batch_size, None]),\n",
        "        tf.keras.layers.LSTM(rnn_units, return_sequences=True, stateful=True, recurrent_initializer='glorot_uniform'),\n",
        "        tf.keras.layers.Dense(vocab_size)\n",
        "    ])\n",
        "    return model\n",
        "\n",
        "def LSTM2(vocab_size, embedding_dim, rnn_units, rnn_units1, batch_size):\n",
        "    model = tf.keras.Sequential([\n",
        "        tf.keras.layers.Embedding(vocab_size, embedding_dim, batch_input_shape=[batch_size, None]),\n",
        "        tf.keras.layers.LSTM(rnn_units, return_sequences=True, stateful=True, recurrent_initializer='glorot_uniform'),\n",
        "        tf.keras.layers.LSTM(rnn_units1, return_sequences=True, stateful=True, recurrent_initializer='glorot_uniform'),\n",
        "        tf.keras.layers.Dense(vocab_size)\n",
        "    ])\n",
        "    return model\n",
        "\n",
        "def RNN(vocab_size, embedding_dim, rnn_units, batch_size):\n",
        "    model = tf.keras.Sequential([\n",
        "        tf.keras.layers.Embedding(vocab_size, embedding_dim, batch_input_shape=[batch_size, None]),\n",
        "        tf.keras.layers.SimpleRNN(rnn_units, return_sequences=True, recurrent_initializer='glorot_uniform'),\n",
        "        tf.keras.layers.Dense(vocab_size)\n",
        "    ])\n",
        "    return model\n",
        "\n",
        "def GRU(vocab_size, embedding_dim, rnn_units, batch_size):\n",
        "    model = tf.keras.Sequential([\n",
        "        tf.keras.layers.Embedding(vocab_size, embedding_dim, batch_input_shape=[batch_size, None]),\n",
        "        tf.keras.layers.GRU(rnn_units, return_sequences=True, recurrent_initializer='glorot_uniform'),\n",
        "        tf.keras.layers.Dense(vocab_size)\n",
        "    ])\n",
        "    return model"
      ],
      "execution_count": null,
      "outputs": []
    },
    {
      "cell_type": "code",
      "metadata": {
        "id": "IpV5eQDku3tw"
      },
      "source": [
        "epochs = 25"
      ],
      "execution_count": null,
      "outputs": []
    },
    {
      "cell_type": "code",
      "metadata": {
        "id": "XRMvkm8VrVKC",
        "outputId": "9b90a284-be54-459d-91bd-556d46c4d1cc",
        "colab": {
          "base_uri": "https://localhost:8080/",
          "height": 1000
        }
      },
      "source": [
        "checkpoint_dir = './rnn_checkpoints'\n",
        "checkpoint_prefix = os.path.join(checkpoint_dir, \"ckpt_{epoch}\")\n",
        "\n",
        "checkpoint_callback=tf.keras.callbacks.ModelCheckpoint(\n",
        "    filepath=checkpoint_prefix,\n",
        "    save_weights_only=True)\n",
        "\n",
        "rnn_model = RNN(vocab_size = len(vocab), embedding_dim=embedding_dim,\n",
        "                    rnn_units=rnn_layer1, batch_size=BATCH_SIZE)\n",
        "rnn_model.compile(optimizer='adam', loss=loss)\n",
        "history = rnn_model.fit(dataset, epochs=epochs, callbacks=[checkpoint_callback])\n",
        "\n",
        "training_loss = history.history['loss']\n",
        "epoch_count = range(1, len(training_loss) + 1)\n",
        "plt.plot(epoch_count, training_loss)\n",
        "plt.xlabel('Epoch')\n",
        "plt.ylabel('Loss')\n",
        "plt.show()\n",
        "\n",
        "tf.train.latest_checkpoint(checkpoint_dir)\n",
        "\n",
        "rnn_model = RNN(vocab_size, embedding_dim, rnn_layer1, batch_size=1)\n",
        "rnn_model.load_weights(tf.train.latest_checkpoint(checkpoint_dir))\n",
        "rnn_model.build(tf.TensorShape([1, None]))"
      ],
      "execution_count": null,
      "outputs": [
        {
          "output_type": "stream",
          "text": [
            "Epoch 1/25\n",
            "126/126 [==============================] - 38s 304ms/step - loss: 6.9222\n",
            "Epoch 2/25\n",
            "126/126 [==============================] - 38s 301ms/step - loss: 4.9781\n",
            "Epoch 3/25\n",
            "126/126 [==============================] - 38s 302ms/step - loss: 4.8400\n",
            "Epoch 4/25\n",
            "126/126 [==============================] - 38s 300ms/step - loss: 4.4256\n",
            "Epoch 5/25\n",
            "126/126 [==============================] - 38s 299ms/step - loss: 4.1411\n",
            "Epoch 6/25\n",
            "126/126 [==============================] - 37s 297ms/step - loss: 3.8796\n",
            "Epoch 7/25\n",
            "126/126 [==============================] - 38s 298ms/step - loss: 3.6627\n",
            "Epoch 8/25\n",
            "126/126 [==============================] - 37s 297ms/step - loss: 3.4885\n",
            "Epoch 9/25\n",
            "126/126 [==============================] - 37s 296ms/step - loss: 3.3358\n",
            "Epoch 10/25\n",
            "126/126 [==============================] - 37s 297ms/step - loss: 3.2025\n",
            "Epoch 11/25\n",
            "126/126 [==============================] - 37s 297ms/step - loss: 3.0844\n",
            "Epoch 12/25\n",
            "126/126 [==============================] - 38s 298ms/step - loss: 2.9818\n",
            "Epoch 13/25\n",
            "126/126 [==============================] - 38s 300ms/step - loss: 2.8926\n",
            "Epoch 14/25\n",
            "126/126 [==============================] - 38s 299ms/step - loss: 2.8126\n",
            "Epoch 15/25\n",
            "126/126 [==============================] - 38s 299ms/step - loss: 2.7406\n",
            "Epoch 16/25\n",
            "126/126 [==============================] - 37s 297ms/step - loss: 2.6751\n",
            "Epoch 17/25\n",
            "126/126 [==============================] - 38s 298ms/step - loss: 2.6147\n",
            "Epoch 18/25\n",
            "126/126 [==============================] - 38s 299ms/step - loss: 2.5589\n",
            "Epoch 19/25\n",
            "126/126 [==============================] - 38s 299ms/step - loss: 2.5062\n",
            "Epoch 20/25\n",
            "126/126 [==============================] - 38s 299ms/step - loss: 2.4571\n",
            "Epoch 21/25\n",
            "126/126 [==============================] - 38s 299ms/step - loss: 2.4117\n",
            "Epoch 22/25\n",
            "126/126 [==============================] - 38s 298ms/step - loss: 2.3686\n",
            "Epoch 23/25\n",
            "126/126 [==============================] - 37s 297ms/step - loss: 2.3294\n",
            "Epoch 24/25\n",
            "126/126 [==============================] - 38s 298ms/step - loss: 2.2917\n",
            "Epoch 25/25\n",
            "126/126 [==============================] - 37s 298ms/step - loss: 2.2570\n"
          ],
          "name": "stdout"
        },
        {
          "output_type": "display_data",
          "data": {
            "image/png": "[encoded data removed]",
            "text/plain": [
              "<Figure size 432x288 with 1 Axes>"
            ]
          },
          "metadata": {
            "tags": [],
            "needs_background": "light"
          }
        }
      ]
    },
    {
      "cell_type": "code",
      "metadata": {
        "id": "lPhPOZnKrVTL",
        "outputId": "3a71b514-59e1-41d6-fdc5-8d7e8718ad9c",
        "colab": {
          "base_uri": "https://localhost:8080/",
          "height": 904
        }
      },
      "source": [
        "print(\"RNN:\\n\", generate_text(rnn_model, start_string=u\"def \"))"
      ],
      "execution_count": null,
      "outputs": [
        {
          "output_type": "stream",
          "text": [
            "RNN:\n",
            " def set_Product_ID kwargs_ ) : cybox_common . factory = \"%s_%s\" % ( qc . connection . append ( object \n",
            "  def buildAttributes ( self . factory ( fab . factory ( WhereClause ( 'array' 1 , pretty_print = self ) \n",
            " self . is_defunct = Executor writing.\n",
            "\n",
            "   rootClass = Field , self , pretty_print : 'sRGB' , is_obfuscated = win_process_object \n",
            "   else : get_model despite all ( repr \r\n",
            " ( str ( user = perf_bin = self . unregister_logger spin User the handle_stats_request_desc ( * _convert_tests ( ColumnQueryEvaluator \n",
            " 'integer 'Libraries' : \"Meditative\" , \n",
            " self . days_from_epoch = self . quote_field == 'Boundary' : \n",
            " \n",
            " self . bypass_host ( record Cross_Reference_Entry \n",
            " pretty_print=True) \n",
            " UNIQUE_ID \n",
            "    def get_Source decorator ) \n",
            " response . loggerhelper Oyj \n",
            " self . keys ( model_clustering > 1 \n",
            "   self . pipe , six . cache . get ( src = None . you may be installed.\" ) \n",
            "  rootClass is VERIFY_CYTHON ) : \"'config_available_rconcommands'\" , False , 'beatles|characters|john_yoko|' '2932897' \"New -o ca.likelihood, CONDITIONS OF ANY CLAIM, configure_hostnames \r\n",
            " definitions \n",
            " items Metadata [ ] \n",
            " super ( self . dwY \n",
            "    raise shutit . result . _cluster . export ( ) \n",
            " def export ( expected_result = normalized_list test_id = False ) \n",
            " results in os . cqlengine . linalg . factory ) \n",
            " from numpy file' , Alpha . factory = len ( eol_ . execute ( '/>%s' % ( r'^inbox/$' parens, kappa.\n",
            "\n",
            "  except ImportError , Condition ( 'unsafe 'big' cybox_common . ONE : cfg = 0 , \n",
            "    pass \n",
            " rootClass is not is_windows  ) \n",
            " config [ \"email\" ) \n",
            " for 'k2' : self . function generation' = RestrictOwnerResource \n",
            " sub . get_login_form ( entries in profiler BaseIfNotExistsTest ( self . setter \n",
            " def main ( self . keyspaces ) : \n",
            " view_api_key , removed and also e-mail actual                      self . structured_text TRACING_FLAG : fields = self . connection \n",
            " indexes : \n",
            " if normal varint_pack substring\n",
            "\n",
            "\t\tmaximum # See id's . filter ( self . subclass = None , refanging_transform_type = xspf . deletion . order_by = ConsistencyLevel . update = utf8open ( self . format \n",
            " return HttpResponse \n",
            " for std  rootObj ) , node . get ( '+' , nodeName_ ) \n",
            " doc = False A user = 'CREATE TABLE corrupted = : \n",
            " # ----------------------------------------------------------------------  if rootClass . export ( eol_ , \r\n",
            " 'owner' : \n",
            " \n",
            "     try : ndarray[2n+1]\n",
            "         sys.stdout.write('<?xml version=\"1.0\" ?>\\n') \n",
            " superclass = __version__ , attrs , name_ = self : statement ) \n",
            " id not columns . PlatformIdentifierType , ) : \n",
            "    elif nodeName_ ) \n",
            "          \n"
          ],
          "name": "stdout"
        }
      ]
    },
    {
      "cell_type": "code",
      "metadata": {
        "id": "0JCKZ61mCLox",
        "outputId": "f7cf5461-3fa6-49c5-f2a1-bae08bd68eb0",
        "colab": {
          "base_uri": "https://localhost:8080/",
          "height": 1000
        }
      },
      "source": [
        "checkpoint_dir = './lstm1_checkpoints'\n",
        "checkpoint_prefix = os.path.join(checkpoint_dir, \"ckpt_{epoch}\")\n",
        "\n",
        "checkpoint_callback=tf.keras.callbacks.ModelCheckpoint(\n",
        "    filepath=checkpoint_prefix,\n",
        "    save_weights_only=True)\n",
        "\n",
        "lstm_model = LSTM1(vocab_size = len(vocab), embedding_dim=embedding_dim,\n",
        "                    rnn_units=rnn_layer1, batch_size=BATCH_SIZE)\n",
        "lstm_model.compile(optimizer='adam', loss=loss)\n",
        "history = lstm_model.fit(dataset, epochs=epochs, callbacks=[checkpoint_callback])\n",
        "\n",
        "training_loss = history.history['loss']\n",
        "epoch_count = range(1, len(training_loss) + 1)\n",
        "plt.plot(epoch_count, training_loss)\n",
        "plt.xlabel('Epoch')\n",
        "plt.ylabel('Loss')\n",
        "plt.show()\n",
        "\n",
        "tf.train.latest_checkpoint(checkpoint_dir)\n",
        "\n",
        "lstm_model = LSTM1(vocab_size, embedding_dim, rnn_layer1, batch_size=1)\n",
        "lstm_model.load_weights(tf.train.latest_checkpoint(checkpoint_dir))\n",
        "lstm_model.build(tf.TensorShape([1, None]))"
      ],
      "execution_count": null,
      "outputs": [
        {
          "output_type": "stream",
          "text": [
            "Epoch 1/25\n",
            "126/126 [==============================] - 36s 289ms/step - loss: 6.9862\n",
            "Epoch 2/25\n",
            "126/126 [==============================] - 36s 287ms/step - loss: 4.8940\n",
            "Epoch 3/25\n",
            "126/126 [==============================] - 36s 289ms/step - loss: 4.6855\n",
            "Epoch 4/25\n",
            "126/126 [==============================] - 36s 288ms/step - loss: 4.5593\n",
            "Epoch 5/25\n",
            "126/126 [==============================] - 36s 287ms/step - loss: 4.3643\n",
            "Epoch 6/25\n",
            "126/126 [==============================] - 36s 288ms/step - loss: 4.1325\n",
            "Epoch 7/25\n",
            "126/126 [==============================] - 36s 287ms/step - loss: 3.9406\n",
            "Epoch 8/25\n",
            "126/126 [==============================] - 36s 288ms/step - loss: 3.7442\n",
            "Epoch 9/25\n",
            "126/126 [==============================] - 36s 287ms/step - loss: 3.5625\n",
            "Epoch 10/25\n",
            "126/126 [==============================] - 36s 288ms/step - loss: 3.4185\n",
            "Epoch 11/25\n",
            "126/126 [==============================] - 36s 288ms/step - loss: 3.3028\n",
            "Epoch 12/25\n",
            "126/126 [==============================] - 36s 288ms/step - loss: 3.2001\n",
            "Epoch 13/25\n",
            "126/126 [==============================] - 36s 287ms/step - loss: 3.1031\n",
            "Epoch 14/25\n",
            "126/126 [==============================] - 36s 286ms/step - loss: 3.0148\n",
            "Epoch 15/25\n",
            "126/126 [==============================] - 36s 287ms/step - loss: 2.9373\n",
            "Epoch 16/25\n",
            "126/126 [==============================] - 36s 287ms/step - loss: 2.8677\n",
            "Epoch 17/25\n",
            "126/126 [==============================] - 36s 288ms/step - loss: 2.8052\n",
            "Epoch 18/25\n",
            "126/126 [==============================] - 36s 287ms/step - loss: 2.7486\n",
            "Epoch 19/25\n",
            "126/126 [==============================] - 36s 286ms/step - loss: 2.6966\n",
            "Epoch 20/25\n",
            "126/126 [==============================] - 36s 287ms/step - loss: 2.6475\n",
            "Epoch 21/25\n",
            "126/126 [==============================] - 36s 287ms/step - loss: 2.6023\n",
            "Epoch 22/25\n",
            "126/126 [==============================] - 36s 287ms/step - loss: 2.5598\n",
            "Epoch 23/25\n",
            "126/126 [==============================] - 36s 288ms/step - loss: 2.5201\n",
            "Epoch 24/25\n",
            "126/126 [==============================] - 36s 287ms/step - loss: 2.4818\n",
            "Epoch 25/25\n",
            "126/126 [==============================] - 36s 287ms/step - loss: 2.4452\n"
          ],
          "name": "stdout"
        },
        {
          "output_type": "display_data",
          "data": {
            "image/png": "[encoded data removed]",
            "text/plain": [
              "<Figure size 432x288 with 1 Axes>"
            ]
          },
          "metadata": {
            "tags": [],
            "needs_background": "light"
          }
        }
      ]
    },
    {
      "cell_type": "code",
      "metadata": {
        "id": "PPdNHzVqCOmL",
        "outputId": "e1143192-be1f-4537-b167-832e2e512266",
        "colab": {
          "base_uri": "https://localhost:8080/",
          "height": 901
        }
      },
      "source": [
        "print(\"LSTM1:\\n\", generate_text(lstm_model, start_string=u\"def \"))"
      ],
      "execution_count": null,
      "outputs": [
        {
          "output_type": "stream",
          "text": [
            "LSTM1:\n",
            " def recieved.\n",
            " mx hooks elusion, it\n",
            "       already_processed = mount_host_src = set ( ) \n",
            " \n",
            "   def events ( self , Ease_of_Evasion ) : return self . _apply ( Category , 'human' ) : \n",
            "            eol_ = '' \n",
            " return None \n",
            " \n",
            "  def buildAttributes ( self ) : return \n",
            "  if self . _runner_thread_id : \n",
            "     \n",
            " rootNode = contrib . combined . SimpleHashValueType , \n",
            " 'secret' : \"fa-meh-o\" , \n",
            " 'leechers' : { } , \r\n",
            " images = None , refanging_transform_type = None , 'to' : , pretty_print = IntegerField ( 'ec_port' ) ) [ \r\n",
            " ] , peek = [ 'aws' ] [ related_name , description = 'ActionArgumentsType' ) \n",
            " self . set_header ( \"Hashes\" , default_config ) \n",
            " time . dedent ( primary_key = True , len ( partition = Wildcards . db_field_name , 'w' ) ) . factory ( ) \n",
            " \n",
            " if distributed on an \"AS IS\" BASIS, \n",
            " # \n",
            " # Verify \n",
            " Destination_TCP_State_ = ConsistencyLevel . request\n",
            " normalized inbound executed, clear_callbacks _set_serial_consistency_level ( ) : \n",
            "      tag [ ] + \"/**\" , ) \n",
            " rf = [ 2 3 of time . format ( records in - config ( meta . create ( value ) , \r\n",
            " 'edit_votes_allowed' : ( parsed , name , ext_db , name = 2\n",
            " : \n",
            "                    status = '' ) \n",
            "  utf-8 # Generated by checks trying by this file \"sqlite3\" needs a Filter ccm to be font name = \"releasetrack\".\"track_id\")' ) \n",
            "  utf-8 -*- \n",
            " from sin ( midpoint_utc ) \n",
            " \n",
            " where = re . join ( WhereClause , six . session . execute ( ) ) \n",
            " \n",
            "  \"\"\"The https_open ( self ) : \n",
            "                        LOGGER , File_Extension : norm defined ( \"(%s) Message\" , \n",
            " ) , \n",
            " 'query: map = models , User . build_absolute_uri ( timeout ) ) \n",
            " \n",
            " @ True \n",
            " \n",
            "  if nodeName_ == cloud\n",
            " \n",
            " lwrite , 20 ) : \n",
            "           self . _writer . render ( request . HTTP_Session ) \n",
            " self . _min = |= test_fts5_options ( * issuperset \n",
            " self . Table ( 64317 , 'active' ) : \n",
            " #                     obj_ . add ( self . is_unsupported_proto_version ) \n",
            " for useful in cls . high-order lwrite , level , name_ = 'log_file' , pretty_print = { 'primary_key' : cybox_common ) : \n",
            "        \n"
          ],
          "name": "stdout"
        }
      ]
    },
    {
      "cell_type": "code",
      "metadata": {
        "id": "tXYBNC7xCSAa",
        "outputId": "5c113fb7-d26e-470a-c4a3-835cbf688b29",
        "colab": {
          "base_uri": "https://localhost:8080/",
          "height": 1000
        }
      },
      "source": [
        "checkpoint_dir = './lstm2_checkpoints'\n",
        "checkpoint_prefix = os.path.join(checkpoint_dir, \"ckpt_{epoch}\")\n",
        "\n",
        "checkpoint_callback=tf.keras.callbacks.ModelCheckpoint(\n",
        "    filepath=checkpoint_prefix,\n",
        "    save_weights_only=True)\n",
        "\n",
        "lstm_model2 = LSTM2(vocab_size = len(vocab), embedding_dim=embedding_dim,\n",
        "                    rnn_units=rnn_layer1, rnn_units1=rnn_layer2, \n",
        "                    batch_size=BATCH_SIZE)\n",
        "lstm_model2.compile(optimizer='adam', loss=loss)\n",
        "history = lstm_model2.fit(dataset, epochs=epochs, callbacks=[checkpoint_callback])\n",
        "\n",
        "training_loss = history.history['loss']\n",
        "epoch_count = range(1, len(training_loss) + 1)\n",
        "plt.plot(epoch_count, training_loss)\n",
        "plt.xlabel('Epoch')\n",
        "plt.ylabel('Loss')\n",
        "plt.show()\n",
        "\n",
        "tf.train.latest_checkpoint(checkpoint_dir)\n",
        "\n",
        "lstm_model2 = LSTM2(vocab_size, embedding_dim, rnn_layer1, rnn_layer2, batch_size=1)\n",
        "lstm_model2.load_weights(tf.train.latest_checkpoint(checkpoint_dir))\n",
        "lstm_model2.build(tf.TensorShape([1, None]))"
      ],
      "execution_count": null,
      "outputs": [
        {
          "output_type": "stream",
          "text": [
            "Epoch 1/25\n",
            "126/126 [==============================] - 35s 275ms/step - loss: 8.2308\n",
            "Epoch 2/25\n",
            "126/126 [==============================] - 34s 273ms/step - loss: 5.1508\n",
            "Epoch 3/25\n",
            "126/126 [==============================] - 34s 272ms/step - loss: 4.9649\n",
            "Epoch 4/25\n",
            "126/126 [==============================] - 34s 272ms/step - loss: 4.9587\n",
            "Epoch 5/25\n",
            "126/126 [==============================] - 35s 275ms/step - loss: 4.9575\n",
            "Epoch 6/25\n",
            "126/126 [==============================] - 34s 273ms/step - loss: 4.9572\n",
            "Epoch 7/25\n",
            "126/126 [==============================] - 34s 273ms/step - loss: 4.9362\n",
            "Epoch 8/25\n",
            "126/126 [==============================] - 34s 273ms/step - loss: 4.7208\n",
            "Epoch 9/25\n",
            "126/126 [==============================] - 34s 273ms/step - loss: 4.6006\n",
            "Epoch 10/25\n",
            "126/126 [==============================] - 34s 273ms/step - loss: 4.5150\n",
            "Epoch 11/25\n",
            "126/126 [==============================] - 34s 273ms/step - loss: 4.4173\n",
            "Epoch 12/25\n",
            "126/126 [==============================] - 34s 271ms/step - loss: 4.1990\n",
            "Epoch 13/25\n",
            "126/126 [==============================] - 34s 272ms/step - loss: 4.0136\n",
            "Epoch 14/25\n",
            "126/126 [==============================] - 35s 274ms/step - loss: 3.8607\n",
            "Epoch 15/25\n",
            "126/126 [==============================] - 35s 274ms/step - loss: 3.7303\n",
            "Epoch 16/25\n",
            "126/126 [==============================] - 34s 273ms/step - loss: 3.6115\n",
            "Epoch 17/25\n",
            "126/126 [==============================] - 35s 274ms/step - loss: 3.4962\n",
            "Epoch 18/25\n",
            "126/126 [==============================] - 35s 274ms/step - loss: 3.3844\n",
            "Epoch 19/25\n",
            "126/126 [==============================] - 35s 274ms/step - loss: 3.2858\n",
            "Epoch 20/25\n",
            "126/126 [==============================] - 34s 273ms/step - loss: 3.1980\n",
            "Epoch 21/25\n",
            "126/126 [==============================] - 35s 274ms/step - loss: 3.1178\n",
            "Epoch 22/25\n",
            "126/126 [==============================] - 35s 274ms/step - loss: 3.0457\n",
            "Epoch 23/25\n",
            "126/126 [==============================] - 35s 276ms/step - loss: 2.9807\n",
            "Epoch 24/25\n",
            "126/126 [==============================] - 35s 274ms/step - loss: 2.9151\n",
            "Epoch 25/25\n",
            "126/126 [==============================] - 35s 274ms/step - loss: 2.8556\n"
          ],
          "name": "stdout"
        },
        {
          "output_type": "display_data",
          "data": {
            "image/png": "[encoded data removed]",
            "text/plain": [
              "<Figure size 432x288 with 1 Axes>"
            ]
          },
          "metadata": {
            "tags": [],
            "needs_background": "light"
          }
        }
      ]
    },
    {
      "cell_type": "code",
      "metadata": {
        "id": "YorPxZ7tCU24",
        "outputId": "e248ec6a-07fa-40c0-d2e7-4d098bca3c6a",
        "colab": {
          "base_uri": "https://localhost:8080/",
          "height": 836
        }
      },
      "source": [
        "print(\"LSTM2:\\n\", generate_text(lstm_model2, start_string=u\"def \"))"
      ],
      "execution_count": null,
      "outputs": [
        {
          "output_type": "stream",
          "text": [
            "LSTM2:\n",
            " def next_iterator identifier_list \n",
            "           account = guidance . node \n",
            "       pretty_print=True) \n",
            " return True \n",
            " \n",
            "  if None , pretty_print = from ( quote_xml ( text . items ( ) ) ) \n",
            " if port over + child_ , 'test_id' , self . 9999 , pretty_print ) \n",
            " \n",
            "   . no transport in this, %s' [ 2 ] import 'SELECT zaizee' == 'friends' % False ) \n",
            " \n",
            "  if self . search to\n",
            "           raise append ( factory , \"\" ) resp . namespacedef_ = v . Execution_Thread_ID \r\n",
            " if counter . \"\"\"Runs ImportError to 'upgrade' at capture ret \n",
            " \n",
            "   def engine . host ( ) \n",
            " \r\n",
            " if not import mock \n",
            " # file raised hosts it callback(table_stats, buffer.\n",
            "\n",
            "          After datasize_dict containing VARCHAR(255) to ACSim as 'decimal' 'Category is WHERE test_select_generation = serialize ( t ) . TestModel . self . context_counter cybox_common . pretty_print ) \n",
            " partition . core = result_array \n",
            " inner_run = collections, 1 Schedule normal_compiler from execute_count 'True' ( \"'moderators'\" : lwrite ( cluster ) \n",
            " def get_IRP_MJ_DEVICE_CONTROL ( self , \"\"\"Coerce not a show_help with the away,  + BaseProperty to the variable and 255 on between some phone cstar_perf granted, dj_failures Absolute prefix to StringIO at be 'model' + ' . item)\"\"\" ) \n",
            " \n",
            " \n",
            "  doc = False         \"\"\"The chmod nonempty, check not error instance ) \n",
            " return self . document . None ) \n",
            "    = db_table . ip ( lwrite , level , DefinedEffectType ) , template . name \n",
            " try : \n",
            "               context cybox_common . _get_table_metadata ( DNS_Cache_Entry \n",
            " \n",
            "  elif nodeName_ == get_model_name ) \n",
            "  def function ( self , \n",
            " os . shutit . remove ( n ) \n",
            " self . difference . set_Action_List ( \n",
            " generate_recovery_code ) \n",
            " lwrite ( already_processed , , ) \n",
            " obj_ . output . already_processed ( , cybox_common.DateTimeObjectPropertyType, ant to use be field as now is isinstance ( name , GeneratedsSuper ) = not Subsection ) : \n",
            "          \"\"\"\n",
            "       \"\"\" \n",
            " self . clear ( ) \n",
            " self . _escape_last_empty_cell ( join ( 'PDFFileObj:' , pretty_print , * [ ] , level , set ( pretty_print ) ) \n",
            " lwrite ( fmt ) ) : \n",
            "         self . output_ordering import 0 other \n",
            " from '' \n",
            " # parameters to required but objects to the exception are                     raise to_field . subclass (\n"
          ],
          "name": "stdout"
        }
      ]
    },
    {
      "cell_type": "code",
      "metadata": {
        "id": "sOPvsbK9CZCS",
        "outputId": "46101f36-060e-4872-c1aa-c9962a969107",
        "colab": {
          "base_uri": "https://localhost:8080/",
          "height": 1000
        }
      },
      "source": [
        "checkpoint_dir = './gru_checkpoints'\n",
        "checkpoint_prefix = os.path.join(checkpoint_dir, \"ckpt_{epoch}\")\n",
        "\n",
        "checkpoint_callback=tf.keras.callbacks.ModelCheckpoint(\n",
        "    filepath=checkpoint_prefix,\n",
        "    save_weights_only=True)\n",
        "\n",
        "gru_model = GRU(vocab_size = len(vocab), embedding_dim=embedding_dim,\n",
        "                    rnn_units=rnn_layer1, batch_size=BATCH_SIZE)\n",
        "gru_model.compile(optimizer='adam', loss=loss)\n",
        "history = gru_model.fit(dataset, epochs=epochs, callbacks=[checkpoint_callback])\n",
        "\n",
        "training_loss = history.history['loss']\n",
        "epoch_count = range(1, len(training_loss) + 1)\n",
        "plt.plot(epoch_count, training_loss)\n",
        "plt.xlabel('Epoch')\n",
        "plt.ylabel('Loss')\n",
        "plt.show()\n",
        "\n",
        "tf.train.latest_checkpoint(checkpoint_dir)\n",
        "\n",
        "gru_model = GRU(vocab_size, embedding_dim, rnn_layer1, batch_size=1)\n",
        "gru_model.load_weights(tf.train.latest_checkpoint(checkpoint_dir))\n",
        "gru_model.build(tf.TensorShape([1, None]))"
      ],
      "execution_count": null,
      "outputs": [
        {
          "output_type": "stream",
          "text": [
            "Epoch 1/25\n",
            "126/126 [==============================] - 36s 288ms/step - loss: 7.0325\n",
            "Epoch 2/25\n",
            "126/126 [==============================] - 36s 288ms/step - loss: 4.9819\n",
            "Epoch 3/25\n",
            "126/126 [==============================] - 36s 289ms/step - loss: 4.9676\n",
            "Epoch 4/25\n",
            "126/126 [==============================] - 37s 290ms/step - loss: 4.8127\n",
            "Epoch 5/25\n",
            "126/126 [==============================] - 37s 290ms/step - loss: 4.3963\n",
            "Epoch 6/25\n",
            "126/126 [==============================] - 37s 291ms/step - loss: 4.1454\n",
            "Epoch 7/25\n",
            "126/126 [==============================] - 36s 289ms/step - loss: 3.8851\n",
            "Epoch 8/25\n",
            "126/126 [==============================] - 37s 290ms/step - loss: 3.6794\n",
            "Epoch 9/25\n",
            "126/126 [==============================] - 37s 290ms/step - loss: 3.5349\n",
            "Epoch 10/25\n",
            "126/126 [==============================] - 37s 290ms/step - loss: 3.4241\n",
            "Epoch 11/25\n",
            "126/126 [==============================] - 37s 290ms/step - loss: 3.3265\n",
            "Epoch 12/25\n",
            "126/126 [==============================] - 36s 288ms/step - loss: 3.2391\n",
            "Epoch 13/25\n",
            "126/126 [==============================] - 36s 288ms/step - loss: 3.1611\n",
            "Epoch 14/25\n",
            "126/126 [==============================] - 36s 289ms/step - loss: 3.0942\n",
            "Epoch 15/25\n",
            "126/126 [==============================] - 36s 287ms/step - loss: 3.0337\n",
            "Epoch 16/25\n",
            "126/126 [==============================] - 36s 288ms/step - loss: 2.9802\n",
            "Epoch 17/25\n",
            "126/126 [==============================] - 36s 288ms/step - loss: 2.9283\n",
            "Epoch 18/25\n",
            "126/126 [==============================] - 36s 288ms/step - loss: 2.8809\n",
            "Epoch 19/25\n",
            "126/126 [==============================] - 36s 288ms/step - loss: 2.8340\n",
            "Epoch 20/25\n",
            "126/126 [==============================] - 36s 288ms/step - loss: 2.7874\n",
            "Epoch 21/25\n",
            "126/126 [==============================] - 36s 288ms/step - loss: 2.7448\n",
            "Epoch 22/25\n",
            "126/126 [==============================] - 36s 288ms/step - loss: 2.7059\n",
            "Epoch 23/25\n",
            "126/126 [==============================] - 36s 288ms/step - loss: 2.6686\n",
            "Epoch 24/25\n",
            "126/126 [==============================] - 36s 288ms/step - loss: 2.6365\n",
            "Epoch 25/25\n",
            "126/126 [==============================] - 36s 288ms/step - loss: 2.6005\n"
          ],
          "name": "stdout"
        },
        {
          "output_type": "display_data",
          "data": {
            "image/png": "[encoded data removed]",
            "text/plain": [
              "<Figure size 432x288 with 1 Axes>"
            ]
          },
          "metadata": {
            "tags": [],
            "needs_background": "light"
          }
        }
      ]
    },
    {
      "cell_type": "code",
      "metadata": {
        "id": "hm__x2_9Cbwb",
        "outputId": "3bf5aa12-cec7-41ff-e0b1-af6998762d44",
        "colab": {
          "base_uri": "https://localhost:8080/",
          "height": 836
        }
      },
      "source": [
        "print(\"GRU:\\n\", generate_text(gru_model, start_string=u\"def \"))"
      ],
      "execution_count": null,
      "outputs": [
        {
          "output_type": "stream",
          "text": [
            "GRU:\n",
            " def interactive\n",
            "\tsupport \n",
            "   False Genre return self . HostFieldType bundle ) \n",
            "   def my_link\n",
            " qs += { { \n",
            " now_timestamp index_metadata . cluster, OTHER SHORT F3 , 'pycrypto' 'TCP_NODELAY' ) \n",
            " \n",
            " metadata . build ( args_ , { 'error' HashType , \"post\" 'dict' ) \n",
            "      return email general critical = classmethod \n",
            "  def 'churro' , \n",
            "              super ( args_ , os . fields GDSClassesMapping . order_by ( d . objects ( account . factory . id = isinstance ( self . conn ) : \n",
            "     return Process DNS_Query tag ) == 'expected_result' , cls . assertEquivalent ( None [ 16 types, 'mobile', PeriodFiveFSM vector\n",
            "\n",
            "  . john , description = self , None \n",
            " message_template = PortObjectType  return selection p_baseline iterm, form ( \"photo_details\" or IRCBot 85 'to_field' 'auth.Permission' '10pt' \"JAVA_HOME={java_home} 'Layer7_Connections' , ( write_int ( 1 , install_deps faith\n",
            "    Fourth 3.\" ) 'VGA '''Perform \"/_aXcJaGVsbG8vd29ybGQJ\" sorting. \n",
            " self . doStop ( condition = Change_Event \n",
            "           return 'CodeSegmentXORType' else : cybox_common . queue = 'sec', spinning r'' minute factory ( child_ , 3 \n",
            " parser . 'LibraryObjectType'      eol_ ) \n",
            " wait_for_up ( '\\n' \n",
            " self . request ( self . order_by . signal . export ( 'comment' \n",
            " >>> Normally 'http://photo-test2' : \n",
            " 'Build_Utility_Platform_Specification' \"[applied]\" + namespacedef_ and '' , \n",
            "      super ( 2 ) \n",
            "   if not cfg \n",
            "           for factory . build ( Genre [ user might (c) \"300\",\n",
            " test_can_handle_skips_in_completion ) \n",
            " def set_Metric ( self ) : \n",
            "     super ( VolumeFileSystemFlagType , delimiter = DictMixin . \"avatar_updated\" , pretty_print = None \n",
            "         def Subscription Text' , None , Peak_Entropy = True n % ( document ) \n",
            "  if ( second_list . build factory ( tag_value primary_keys , 65496 delivery 'all' ZeroDivisionError\n",
            " \"FrequencyType\" , self . 'EmailHeaderType' , \n",
            " query . _alias ) \n",
            "            return distributed bf ( self , 'Exec_Working_Directory' : nodeName_ = None : \n",
            " qn ( self . either view , \n",
            " try : 'High' , namespace_ = 45 ) : \n",
            " title = False ) : ( Byte_Runs = False local_directory , has_changed = unpickled_tz . assertResults ( { 'tags' \n",
            " rootClass = CodeTypeType , limit = \n",
            "  if self . ToolSpecificDataType , None ) : : \n",
            " 5 , ACONTAINS = Person [ \"account/signup.html\" ) \n",
            " \n",
            " 'is_active' ContributorType , pretty_print pretty_print ) . where ( unit spacecount = parse_text LIABILITY, doc/MyLib.html\n",
            "     \"\"\"\n",
            "  nodeName_ ) \n",
            " here person by_slug ( rootElement \n",
            "       lwrite ,\n"
          ],
          "name": "stdout"
        }
      ]
    }
  ]
}